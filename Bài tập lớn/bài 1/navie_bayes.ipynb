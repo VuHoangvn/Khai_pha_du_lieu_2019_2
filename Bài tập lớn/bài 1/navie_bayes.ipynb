{
 "cells": [
  {
   "cell_type": "code",
   "execution_count": 1,
   "metadata": {},
   "outputs": [],
   "source": [
    "import numpy as np\n",
    "import pandas as pd\n",
    "import os\n",
    "from sklearn.model_selection import train_test_split\n",
    "import re\n",
    "import string\n",
    "import nltk\n",
    "import re\n",
    "import string\n",
    "import nltk\n",
    "from nltk.stem import PorterStemmer, WordNetLemmatizer\n"
   ]
  },
  {
   "cell_type": "code",
   "execution_count": 56,
   "metadata": {},
   "outputs": [],
   "source": [
    "# text processing\n",
    "def text_processing(sentence):\n",
    "    # stop words are the most common words in a language\n",
    "    stop_words = set(nltk.corpus.stopwords.words('english'))\n",
    "\n",
    "    # stemming is the process for reducing devived words to their stem\n",
    "    # ex: owned -> owe\n",
    "    stemmer = PorterStemmer()\n",
    "\n",
    "    # Lemmatization of words\n",
    "    # grouping together the different inflects forms of a word\n",
    "    # so they can be analysed as a single item\n",
    "    lemmatizer = WordNetLemmatizer()\n",
    "    # remove number\n",
    "    sentence = re.sub(r'\\d+', '', sentence)\n",
    "    # remove punctuations\n",
    "    sentence = sentence.translate(sentence.maketrans(\"\",\"\", string.punctuation))\n",
    "    words_in_sentence = list(set(sentence.split(' ')) - stop_words)\n",
    "    \n",
    "    for index, word in enumerate(words_in_sentence):\n",
    "        word = stemmer.stem(word)\n",
    "        words_in_sentence[index] = lemmatizer.lemmatize(word)\n",
    "    return words_in_sentence"
   ]
  },
  {
   "cell_type": "code",
   "execution_count": 57,
   "metadata": {},
   "outputs": [],
   "source": [
    "data = pd.read_csv('data/bbc-text.csv')\n",
    "text = data['text'].values.tolist()\n",
    "category = data['category'].values.tolist()\n",
    "classes = list(set(category))\n",
    "category = data['category'].apply(classes.index).values.tolist()"
   ]
  },
  {
   "cell_type": "code",
   "execution_count": 58,
   "metadata": {},
   "outputs": [],
   "source": [
    "clean_text = []\n",
    "for i in range(len(text)):\n",
    "    temp = text_processing(text[i])\n",
    "    del temp[0]\n",
    "    clean_text.append(''.join(temp)) \n",
    "x_train, x_test, y_train, y_test = train_test_split(clean_text, category, test_size=0.2, random_state=42)"
   ]
  },
  {
   "cell_type": "code",
   "execution_count": 59,
   "metadata": {},
   "outputs": [
    {
     "name": "stdout",
     "output_type": "stream",
     "text": [
      "Counter({1: 101, 4: 98, 3: 83, 2: 82, 0: 81})\n"
     ]
    }
   ],
   "source": [
    "from collections import Counter\n",
    "print(Counter(y_test))"
   ]
  },
  {
   "cell_type": "code",
   "execution_count": 60,
   "metadata": {},
   "outputs": [
    {
     "name": "stdout",
     "output_type": "stream",
     "text": [
      "accuracy 0.2808988764044944\n",
      "[[ 3  0  0  0 78]\n",
      " [ 0  5  0  0 96]\n",
      " [ 0  0 14  0 68]\n",
      " [ 0  0  0  5 78]\n",
      " [ 0  0  0  0 98]]\n"
     ]
    }
   ],
   "source": [
    "from sklearn.naive_bayes import MultinomialNB\n",
    "from sklearn.pipeline import Pipeline\n",
    "from sklearn.feature_extraction.text import TfidfTransformer\n",
    "from sklearn.feature_extraction.text import CountVectorizer, TfidfVectorizer\n",
    "from sklearn.metrics import accuracy_score, confusion_matrix\n",
    "\n",
    "\n",
    "nb = Pipeline([('vect', CountVectorizer()),\n",
    "               ('tfidf', TfidfTransformer()),\n",
    "               ('clf', MultinomialNB()),\n",
    "              ])\n",
    "nb.fit(x_train, y_train)\n",
    "\n",
    "from sklearn.metrics import classification_report\n",
    "y_pred = nb.predict(x_test)\n",
    "\n",
    "print('accuracy %s' % accuracy_score(y_pred, y_test))\n",
    "print(confusion_matrix(y_test, y_pred))\n",
    "\n"
   ]
  },
  {
   "cell_type": "code",
   "execution_count": null,
   "metadata": {},
   "outputs": [],
   "source": []
  }
 ],
 "metadata": {
  "kernelspec": {
   "display_name": "Python 3",
   "language": "python",
   "name": "python3"
  },
  "language_info": {
   "codemirror_mode": {
    "name": "ipython",
    "version": 3
   },
   "file_extension": ".py",
   "mimetype": "text/x-python",
   "name": "python",
   "nbconvert_exporter": "python",
   "pygments_lexer": "ipython3",
   "version": "3.6.9"
  }
 },
 "nbformat": 4,
 "nbformat_minor": 2
}
