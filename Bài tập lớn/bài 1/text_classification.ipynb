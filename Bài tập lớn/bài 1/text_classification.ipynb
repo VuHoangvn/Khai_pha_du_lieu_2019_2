{
 "cells": [
  {
   "cell_type": "code",
   "execution_count": 1,
   "metadata": {},
   "outputs": [],
   "source": [
    "import os\n",
    "import string\n",
    "import numpy as np\n",
    "import pandas as pd\n",
    "import nltk\n",
    "import matplotlib.pyplot as plt\n",
    "from sklearn import model_selection\n",
    "from sklearn.naive_bayes import MultinomialNB\n",
    "from sklearn.metrics import classification_report\n",
    "from sklearn.model_selection import train_test_split"
   ]
  },
  {
   "cell_type": "code",
   "execution_count": 2,
   "metadata": {},
   "outputs": [],
   "source": [
    "data = pd.read_csv('data/bbc-text.csv')\n",
    "text = data['text'].values.tolist()\n",
    "category = data['category'].values.tolist()\n",
    "classes = list(set(category))\n",
    "category = data['category'].apply(classes.index).values.tolist()"
   ]
  },
  {
   "cell_type": "code",
   "execution_count": 3,
   "metadata": {},
   "outputs": [],
   "source": [
    "\n",
    "x_train, x_test, y_train, y_test = train_test_split(text, category, test_size=0.2, random_state=42)"
   ]
  },
  {
   "cell_type": "code",
   "execution_count": 4,
   "metadata": {},
   "outputs": [],
   "source": [
    "stop_words = set(nltk.corpus.stopwords.words('english'))\n"
   ]
  },
  {
   "cell_type": "code",
   "execution_count": 5,
   "metadata": {},
   "outputs": [],
   "source": [
    "# Building a vocabulary of words from the given documents\n",
    "vocab = {}\n",
    "for i in range(len(x_train)):\n",
    "    word_list = []\n",
    "    for word in x_train[i].split():\n",
    "        word_new = word.strip(string.punctuation).lower()\n",
    "        if(len(word_new) > 2) and (word_new not in stop_words):\n",
    "            if word_new in vocab:\n",
    "                vocab[word_new] += 1\n",
    "            else:\n",
    "                vocab[word_new] = 1"
   ]
  },
  {
   "cell_type": "code",
   "execution_count": 6,
   "metadata": {},
   "outputs": [
    {
     "data": {
      "image/png": "[encoded data removed]",
      "text/plain": [
       "<Figure size 432x288 with 1 Axes>"
      ]
     },
     "metadata": {
      "needs_background": "light"
     },
     "output_type": "display_data"
    }
   ],
   "source": [
    "# plotting a graph of no of words with a given frequency to decide cut off frequency\n",
    "num_words = [0 for i in range(max(vocab.values())+1)]\n",
    "freq = [i for i in range(max(vocab.values()) + 1)]\n",
    "for key in vocab:\n",
    "    num_words[vocab[key]] += 1\n",
    "plt.plot(freq, num_words)\n",
    "plt.axis([1, 10, 0, 20000])\n",
    "plt.xlabel(\"Frequency\")\n",
    "plt.ylabel(\"No of words\")\n",
    "plt.grid()\n",
    "plt.show()"
   ]
  },
  {
   "cell_type": "code",
   "execution_count": 7,
   "metadata": {},
   "outputs": [
    {
     "name": "stdout",
     "output_type": "stream",
     "text": [
      "Number of words with frequency higher than cutoff frequency(80) : 958\n"
     ]
    }
   ],
   "source": [
    "cutoff_freq = 80\n",
    "# for deciding cutoff frequency\n",
    "num_words_above_cutoff = len(vocab) - sum(num_words[0:cutoff_freq])\n",
    "print(\"Number of words with frequency higher than cutoff frequency({}) :\".format(cutoff_freq), num_words_above_cutoff)"
   ]
  },
  {
   "cell_type": "code",
   "execution_count": 8,
   "metadata": {},
   "outputs": [],
   "source": [
    "# words with frequency higher than cutoff frequency are choosen as features\n",
    "# (i.e we remove words with low frequencies as they would not be significant )\n",
    "features = []\n",
    "for key in vocab:\n",
    "    if vocab[key] >= cutoff_freq:\n",
    "        features.append(key)\n",
    "        "
   ]
  },
  {
   "cell_type": "code",
   "execution_count": 9,
   "metadata": {},
   "outputs": [],
   "source": [
    "# to represent training data as word vector counts\n",
    "x_train_dataset = np.zeros((len(x_train), len(features)))\n",
    "# this can take some time to complete\n",
    "for i in range(len(x_train)):\n",
    "    word_list = [word.strip(string.punctuation).lower() for word in x_train[i].split()]\n",
    "    for word in word_list:\n",
    "        if word in features:\n",
    "            x_train_dataset[i][features.index(word)] += 1\n",
    "\n",
    "x_test_dataset = np.zeros((len(x_test), len(features)))\n",
    "for i in range(len(x_test)):\n",
    "    word_list = [word.strip(string.punctuation).lower() for word in x_test[i].split()]\n",
    "    for word in word_list:\n",
    "        if word in features:\n",
    "            x_test_dataset[i][features.index(word)] += 1"
   ]
  },
  {
   "cell_type": "code",
   "execution_count": 10,
   "metadata": {},
   "outputs": [
    {
     "name": "stdout",
     "output_type": "stream",
     "text": [
      "sklearn's score on training data : 0.9764044943820225\n",
      "sklearn's score on testing data : 0.9415730337078652\n",
      "classification report for testing data :-\n",
      "              precision    recall  f1-score   support\n",
      "\n",
      "           0       0.92      0.96      0.94        83\n",
      "           1       0.96      0.94      0.95        81\n",
      "           2       0.96      0.95      0.95        98\n",
      "           3       0.94      0.94      0.94        82\n",
      "           4       0.93      0.92      0.93       101\n",
      "\n",
      "    accuracy                           0.94       445\n",
      "   macro avg       0.94      0.94      0.94       445\n",
      "weighted avg       0.94      0.94      0.94       445\n",
      "\n"
     ]
    }
   ],
   "source": [
    "# using sklearn;s Multinomial Navie Bayes\n",
    "clf = MultinomialNB()\n",
    "clf.fit(x_train_dataset, y_train)\n",
    "y_test_pred = clf.predict(x_test_dataset)\n",
    "sklearn_score_train = clf.score(x_train_dataset, y_train)\n",
    "print(\"sklearn's score on training data :\", sklearn_score_train)\n",
    "sklearn_score_test = clf.score(x_test_dataset, y_test)\n",
    "print(\"sklearn's score on testing data :\", sklearn_score_test)\n",
    "print(\"classification report for testing data :-\")\n",
    "print(classification_report(y_test, y_test_pred))"
   ]
  },
  {
   "cell_type": "code",
   "execution_count": 34,
   "metadata": {},
   "outputs": [],
   "source": [
    "# implementing multimonial Naviw Bayes from scratch\n",
    "class MultimonialNavieBayes:\n",
    "    def __init__(self):\n",
    "        # count is a dictionary which stores several dictionaries corresponding to each news category\n",
    "        # each value in the subdictionary represents the freq of the key corresponding to that news category\n",
    "        self.count = {}\n",
    "        # classes represents the different news categories\n",
    "        self.classes = None\n",
    "        \n",
    "    def fit(self, X_train, Y_train):\n",
    "        # this can take some time to complete\n",
    "        self.classes = set(Y_train)\n",
    "        for class_ in self.classes:\n",
    "            self.count[class_] = {}\n",
    "            for i in range(len(X_train[0])):\n",
    "                self.count[class_][i] = 0\n",
    "            self.count[class_]['total'] = 0\n",
    "            self.count[class_]['total_points'] = 0\n",
    "        self.count['total_points'] = len(X_train)\n",
    "\n",
    "        for i in range(len(X_train)):\n",
    "            for j in range(len(X_train[0])):\n",
    "                self.count[Y_train[i]][j] += X_train[i][j]\n",
    "                self.count[Y_train[i]]['total'] += X_train[i][j]\n",
    "            self.count[Y_train[i]]['total_points'] += 1\n",
    "\n",
    "    def __probability(self, test_point, class_):\n",
    "        log_prob = np.log(self.count[class_]['total_points']) - np.log(self.count['total_points'])\n",
    "        total_words = len(test_point)\n",
    "        for i in range(len(test_point)):\n",
    "            current_word_prob = test_point[i] * (np.log(self.count[class_][i] + 1) - np.log(self.count[class_]['total'] + total_words))\n",
    "            log_prob += current_word_prob\n",
    "\n",
    "        return log_prob\n",
    "\n",
    "    def __predictSinglePoint(self, test_point):\n",
    "        best_class = None\n",
    "        best_prob = None\n",
    "        first_run = True\n",
    "\n",
    "        for class_ in self.classes:\n",
    "            log_probability_current_class = self.__probability(test_point, class_)\n",
    "            if (first_run) or (log_probability_current_class > best_prob):\n",
    "                best_class = class_\n",
    "                best_prob = log_probability_current_class\n",
    "                first_run = False\n",
    "\n",
    "        return best_class\n",
    "\n",
    "    def predict(self, X_test):\n",
    "        # this can take some time to complete\n",
    "        Y_pred = []\n",
    "        for i in range(len(X_test)):\n",
    "            Y_pred.append(self.__predictSinglePoint(X_test[i]))\n",
    "\n",
    "        return Y_pred\n",
    "\n",
    "    def score(self, Y_pred, Y_true):\n",
    "        # return mean accuracy\n",
    "        count = 0\n",
    "        for i in range(len(Y_pred)):\n",
    "            if Y_pred[i] == Y_true[i]:\n",
    "                count += 1\n",
    "        return count/len(Y_pred)\n",
    "\n"
   ]
  },
  {
   "cell_type": "code",
   "execution_count": 12,
   "metadata": {},
   "outputs": [
    {
     "name": "stdout",
     "output_type": "stream",
     "text": [
      "our score on testing data : 0.9415730337078652\n",
      "classification report for testing data :-\n",
      "              precision    recall  f1-score   support\n",
      "\n",
      "           0       0.92      0.96      0.94        83\n",
      "           1       0.96      0.94      0.95        81\n",
      "           2       0.96      0.95      0.95        98\n",
      "           3       0.94      0.94      0.94        82\n",
      "           4       0.93      0.92      0.93       101\n",
      "\n",
      "    accuracy                           0.94       445\n",
      "   macro avg       0.94      0.94      0.94       445\n",
      "weighted avg       0.94      0.94      0.94       445\n",
      "\n"
     ]
    }
   ],
   "source": [
    "clf2 = MultimonialNavieBayes()\n",
    "clf2.fit(x_train_dataset, y_train)\n",
    "y_test_pred = clf2.predict(x_test_dataset)\n",
    "our_score_test = clf2.score(y_test_pred, y_test)\n",
    "print(\"our score on testing data :\", our_score_test)\n",
    "print(\"classification report for testing data :-\")\n",
    "print(classification_report(y_test, y_test_pred))"
   ]
  },
  {
   "cell_type": "code",
   "execution_count": 13,
   "metadata": {},
   "outputs": [
    {
     "name": "stdout",
     "output_type": "stream",
     "text": [
      "score of out model on test data: 0.9415730337078652\n",
      "score of inbuilt sklearn;s MultinominalNB on the same data : 0.9415730337078652\n"
     ]
    }
   ],
   "source": [
    "print(\"score of out model on test data:\", our_score_test)\n",
    "print(\"score of inbuilt sklearn;s MultinominalNB on the same data :\", sklearn_score_test)"
   ]
  },
  {
   "cell_type": "code",
   "execution_count": null,
   "metadata": {},
   "outputs": [],
   "source": [
    "\n"
   ]
  },
  {
   "cell_type": "code",
   "execution_count": 14,
   "metadata": {},
   "outputs": [
    {
     "name": "stdout",
     "output_type": "stream",
     "text": [
      "['politics', 'entertainment', 'sport', 'tech', 'business']\n"
     ]
    }
   ],
   "source": [
    "print(classes)"
   ]
  },
  {
   "cell_type": "code",
   "execution_count": 20,
   "metadata": {},
   "outputs": [],
   "source": [
    "## binary classification \n",
    "entertainment = data[data['category'] == 'entertainment']\n",
    "not_entertainment = data[data['category'] != 'entertainment'].sample(n=len(entertainment))\n",
    "balance_data = pd.concat([entertainment, not_entertainment])\n"
   ]
  },
  {
   "cell_type": "code",
   "execution_count": 22,
   "metadata": {},
   "outputs": [],
   "source": [
    "from sklearn.utils import shuffle\n",
    "new_data = shuffle(balance_data)"
   ]
  },
  {
   "cell_type": "code",
   "execution_count": 25,
   "metadata": {},
   "outputs": [],
   "source": [
    "X = new_data['text'].values.tolist()\n",
    "Y = new_data['category'].apply(classes.index).values.tolist()\n",
    "for i in range(len(Y)):\n",
    "    if Y[i] != 1:\n",
    "        Y[i] = 0"
   ]
  },
  {
   "cell_type": "code",
   "execution_count": 31,
   "metadata": {},
   "outputs": [],
   "source": [
    "x_train, x_test, y_train, y_test = train_test_split(X, Y, test_size=0.3, random_state=42)"
   ]
  },
  {
   "cell_type": "code",
   "execution_count": 32,
   "metadata": {},
   "outputs": [],
   "source": [
    "# to represent training data as word vector counts\n",
    "x_train_dataset = np.zeros((len(x_train), len(features)))\n",
    "# this can take some time to complete\n",
    "for i in range(len(x_train)):\n",
    "    word_list = [word.strip(string.punctuation).lower() for word in x_train[i].split()]\n",
    "    for word in word_list:\n",
    "        if word in features:\n",
    "            x_train_dataset[i][features.index(word)] += 1\n",
    "\n",
    "x_test_dataset = np.zeros((len(x_test), len(features)))\n",
    "for i in range(len(x_test)):\n",
    "    word_list = [word.strip(string.punctuation).lower() for word in x_test[i].split()]\n",
    "    for word in word_list:\n",
    "        if word in features:\n",
    "            x_test_dataset[i][features.index(word)] += 1"
   ]
  },
  {
   "cell_type": "code",
   "execution_count": 33,
   "metadata": {},
   "outputs": [
    {
     "name": "stdout",
     "output_type": "stream",
     "text": [
      "sklearn's score on training data : 0.9777777777777777\n",
      "sklearn's score on testing data : 0.9698275862068966\n",
      "classification report for testing data :-\n",
      "              precision    recall  f1-score   support\n",
      "\n",
      "           0       0.94      1.00      0.97       118\n",
      "           1       1.00      0.94      0.97       114\n",
      "\n",
      "    accuracy                           0.97       232\n",
      "   macro avg       0.97      0.97      0.97       232\n",
      "weighted avg       0.97      0.97      0.97       232\n",
      "\n"
     ]
    }
   ],
   "source": [
    "# using sklearn;s Multinomial Navie Bayes\n",
    "clf = MultinomialNB()\n",
    "clf.fit(x_train_dataset, y_train)\n",
    "y_test_pred = clf.predict(x_test_dataset)\n",
    "sklearn_score_train = clf.score(x_train_dataset, y_train)\n",
    "print(\"sklearn's score on training data :\", sklearn_score_train)\n",
    "sklearn_score_test = clf.score(x_test_dataset, y_test)\n",
    "print(\"sklearn's score on testing data :\", sklearn_score_test)\n",
    "print(\"classification report for testing data :-\")\n",
    "print(classification_report(y_test, y_test_pred))"
   ]
  },
  {
   "cell_type": "code",
   "execution_count": null,
   "metadata": {},
   "outputs": [],
   "source": []
  }
 ],
 "metadata": {
  "kernelspec": {
   "display_name": "Python 3",
   "language": "python",
   "name": "python3"
  },
  "language_info": {
   "codemirror_mode": {
    "name": "ipython",
    "version": 3
   },
   "file_extension": ".py",
   "mimetype": "text/x-python",
   "name": "python",
   "nbconvert_exporter": "python",
   "pygments_lexer": "ipython3",
   "version": "3.6.9"
  }
 },
 "nbformat": 4,
 "nbformat_minor": 2
}
